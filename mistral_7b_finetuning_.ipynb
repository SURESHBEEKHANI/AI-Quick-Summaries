{
  "nbformat": 4,
  "nbformat_minor": 0,
  "metadata": {
    "colab": {
      "private_outputs": true,
      "provenance": [],
      "gpuType": "T4",
      "cell_execution_strategy": "setup",
      "include_colab_link": true
    },
    "kernelspec": {
      "name": "python3",
      "display_name": "Python 3"
    },
    "language_info": {
      "name": "python"
    },
    "accelerator": "GPU"
  },
  "cells": [
    {
      "cell_type": "markdown",
      "metadata": {
        "id": "view-in-github",
        "colab_type": "text"
      },
      "source": [
        "<a href=\"https://colab.research.google.com/github/SURESHBEEKHANI/AI-Quick-Summaries/blob/main/mistral_7b_finetuning_.ipynb\" target=\"_parent\"><img src=\"https://colab.research.google.com/assets/colab-badge.svg\" alt=\"Open In Colab\"/></a>"
      ]
    },
    {
      "cell_type": "code",
      "source": [
        "!pip install accelerate peft bitsandbytes trl py7zr auto-gptq optimum transformers"
      ],
      "metadata": {
        "id": "RPhTxO0YXNB7"
      },
      "execution_count": null,
      "outputs": []
    },
    {
      "cell_type": "code",
      "source": [
        "!nvidia-smi"
      ],
      "metadata": {
        "id": "SaH0Mdp5XFtD"
      },
      "execution_count": null,
      "outputs": []
    },
    {
      "cell_type": "markdown",
      "source": [
        "### **Step 1: Setup and Import Libraries**"
      ],
      "metadata": {
        "id": "RCNkK-EHS7Cz"
      }
    },
    {
      "cell_type": "code",
      "execution_count": null,
      "metadata": {
        "id": "3sGCE5w5WA1h",
        "collapsed": true
      },
      "outputs": [],
      "source": [
        "# Import necessary libraries for Hugging Face transformers, datasets, and PEFT\n",
        "from transformers import AutoTokenizer, AutoModelForCausalLM, TrainingArguments\n",
        "from datasets import load_dataset, Dataset\n",
        "from peft import LoraConfig, get_peft_model, prepare_model_for_kbit_training\n",
        "from trl import SFTTrainer"
      ]
    },
    {
      "cell_type": "markdown",
      "source": [
        "### **Step 2: Load and Preprocess the Dataset**"
      ],
      "metadata": {
        "id": "FSAJ604fTGvp"
      }
    },
    {
      "cell_type": "code",
      "source": [
        "# Load the SAMSum dataset\n",
        "df = load_dataset(\"samsum\", split=\"train\")  # Load the training split of the SAMSum dataset\n",
        "data_df = df.to_pandas()                    # Convert the dataset to a Pandas DataFrame\n",
        "\n",
        "# Randomly sample 7361 rows (or adjust this number based on available resources)\n",
        "data = data_df.sample(7361)\n",
        "\n",
        "# Combine dialogue and summary into a single text column formatted for supervised fine-tuning\n",
        "data[\"text\"] = data[[\"dialogue\", \"summary\"]].apply(\n",
        "    lambda x: f\"###Human: Summarize this dialogue:\\n{x['dialogue']}\\n###Assistant: {x['summary']}\",\n",
        "    axis=1\n",
        ")\n",
        "\n",
        "# Convert the Pandas DataFrame back to a Hugging Face Dataset\n",
        "data = Dataset.from_pandas(data)\n"
      ],
      "metadata": {
        "id": "JJgJAt-cexzT"
      },
      "execution_count": null,
      "outputs": []
    },
    {
      "cell_type": "markdown",
      "source": [
        "### **Step 3: Load the Pre-trained Model and Tokenizer**"
      ],
      "metadata": {
        "id": "q0RulLJyTdMg"
      }
    },
    {
      "cell_type": "code",
      "source": [
        "# Load the tokenizer\n",
        "tokenizer = AutoTokenizer.from_pretrained(\n",
        "    \"TheBloke/Mistral-7B-Instruct-v0.1-GPTQ\",\n",
        "    padding_side=\"left\",        # Left padding for causal language modeling\n",
        "    add_eos_token=True,         # Add EOS token for sequence termination\n",
        "    add_bos_token=True          # Add BOS token for sequence start\n",
        ")\n",
        "tokenizer.pad_token = tokenizer.eos_token  # Set padding token to EOS token\n",
        "\n",
        "# Prepare the model for low-bit (k-bit) fine-tuning\n",
        "model = AutoModelForCausalLM.from_pretrained(\n",
        "    \"TheBloke/Mistral-7B-Instruct-v0.1-GPTQ\",\n",
        "    device_map=\"auto\",\n",
        "    offload_folder=\"./offload\",  # Directory for offloaded weights\n",
        "    offload_state_dict=True,    # Offload state dictionaries to reduce GPU memory\n",
        ")\n",
        "model = prepare_model_for_kbit_training(model)  # Prepare the model for PEFT\n"
      ],
      "metadata": {
        "id": "50tiLCGerEl6"
      },
      "execution_count": null,
      "outputs": []
    },
    {
      "cell_type": "markdown",
      "source": [
        "### **Step 4: Configure LoRA (Low-Rank Adaptation)**"
      ],
      "metadata": {
        "id": "kUjHD1oaUJ3Q"
      }
    },
    {
      "cell_type": "code",
      "source": [
        "# Define LoRA configuration for efficient fine-tuning\n",
        "peft_config = LoraConfig(\n",
        "    r=16,                      # Rank of the low-rank matrices\n",
        "    lora_alpha=16,             # Scaling factor for LoRA\n",
        "    lora_dropout=0.05,         # Dropout rate for LoRA layers\n",
        "    bias=\"none\",               # No biases in LoRA layers\n",
        "    task_type=\"CAUSAL_LM\",     # Task type: causal language modeling\n",
        "    target_modules=[\"q_proj\", \"v_proj\"]  # Apply LoRA to query and value projections in attention layers\n",
        ")\n",
        "\n",
        "# Apply the LoRA configuration to the model\n",
        "model = get_peft_model(model, peft_config)\n"
      ],
      "metadata": {
        "id": "Rbn8aa_QvGOM"
      },
      "execution_count": null,
      "outputs": []
    },
    {
      "cell_type": "code",
      "source": [
        "import torch\n",
        "\n",
        "# Clear cache to prevent memory fragmentation\n",
        "torch.cuda.empty_cache()"
      ],
      "metadata": {
        "id": "rKFXoIaTaUmb"
      },
      "execution_count": null,
      "outputs": []
    },
    {
      "cell_type": "markdown",
      "source": [
        "### **Step 5: Define Training Arguments**"
      ],
      "metadata": {
        "id": "ty1rHfldVTgd"
      }
    },
    {
      "cell_type": "code",
      "source": [
        "from transformers import TrainingArguments, DataCollatorForSeq2Seq\n",
        "\n",
        "# Update training arguments with a smaller batch size\n",
        "training_arguments = TrainingArguments(\n",
        "    output_dir=\"mistral-finetuned-samsum\",  # Directory where the model checkpoints and outputs will be saved\n",
        "    per_device_train_batch_size=4,          # Reduce batch size to 4 or lower\n",
        "    gradient_accumulation_steps=1,          # Number of steps to accumulate gradients before performing a backward pass\n",
        "    optim=\"paged_adamw_32bit\",              # Optimizer to be used for training\n",
        "    learning_rate=2e-4,                     # Learning rate for the optimizer\n",
        "    lr_scheduler_type=\"cosine\",             # The type of learning rate scheduler\n",
        "    save_strategy=\"epoch\",                  # The strategy to save model checkpoints\n",
        "    logging_steps=100,                      # Number of steps between each logging event\n",
        "    num_train_epochs=1,                     # The total number of training epochs\n",
        "    max_steps=250,                          # Maximum number of training steps\n",
        "    fp16=True                               # Enable mixed-precision training (float16)\n",
        ")\n",
        "\n",
        "# Define a data collator to handle padding during training\n",
        "data_collator = DataCollatorForSeq2Seq(tokenizer, model=model, padding=True)\n",
        "\n",
        "# Tokenize the dataset with a max length\n",
        "def tokenize_function(examples):\n",
        "    return tokenizer(examples['text'], truncation=True, padding=\"max_length\", max_length=512)\n",
        "\n",
        "# Apply tokenization to the dataset\n",
        "train_dataset = data.map(tokenize_function, batched=True)"
      ],
      "metadata": {
        "id": "8S_ER7aGVXpP"
      },
      "execution_count": null,
      "outputs": []
    },
    {
      "cell_type": "markdown",
      "source": [
        "### **Step 6: Initialize the Trainer**"
      ],
      "metadata": {
        "id": "ZbbPqnFdX1XB"
      }
    },
    {
      "cell_type": "code",
      "source": [
        "trainer = SFTTrainer(\n",
        "    model=model,\n",
        "    train_dataset=train_dataset,\n",
        "    peft_config=peft_config,\n",
        "    args=training_arguments,\n",
        "    tokenizer=tokenizer,\n",
        "    data_collator=data_collator\n",
        ")"
      ],
      "metadata": {
        "id": "4NctzTx5X5R6"
      },
      "execution_count": null,
      "outputs": []
    },
    {
      "cell_type": "markdown",
      "source": [
        "### **Step 7: Train the Model**"
      ],
      "metadata": {
        "id": "F5R1Ahsab5Dc"
      }
    },
    {
      "cell_type": "code",
      "source": [
        "# Start the training process\n",
        "trainer.train()"
      ],
      "metadata": {
        "id": "153-h7Nab4jF"
      },
      "execution_count": null,
      "outputs": []
    }
  ]
}